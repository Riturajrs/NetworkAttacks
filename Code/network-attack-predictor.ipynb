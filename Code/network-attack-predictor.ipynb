{
 "cells": [
  {
   "cell_type": "code",
   "execution_count": 2,
   "id": "9b3e64d5",
   "metadata": {
    "_cell_guid": "b1076dfc-b9ad-4769-8c92-a6c4dae69d19",
    "_uuid": "8f2839f25d086af736a60e9eeb907d3b93b6e0e5",
    "execution": {
     "iopub.execute_input": "2021-10-09T18:02:39.602365Z",
     "iopub.status.busy": "2021-10-09T18:02:39.601577Z",
     "iopub.status.idle": "2021-10-09T18:02:47.505045Z",
     "shell.execute_reply": "2021-10-09T18:02:47.504029Z",
     "shell.execute_reply.started": "2021-10-09T18:02:04.552544Z"
    },
    "papermill": {
     "duration": 7.926034,
     "end_time": "2021-10-09T18:02:47.505230",
     "exception": false,
     "start_time": "2021-10-09T18:02:39.579196",
     "status": "completed"
    },
    "tags": []
   },
   "outputs": [
    {
     "name": "stdout",
     "output_type": "stream",
     "text": [
      "100.0\n"
     ]
    }
   ],
   "source": [
    "import pandas as pd\n",
    "import numpy as np\n",
    "from sklearn.preprocessing import LabelEncoder\n",
    "from sklearn.model_selection import train_test_split\n",
    "from sklearn.ensemble import RandomForestClassifier\n",
    "\n",
    "df = pd.read_csv('../input/train.csv')\n",
    "X = df.drop(['Id','type_of_attack'],axis=1)\n",
    "y = df['type_of_attack']\n",
    "X['protocol_type'] = LabelEncoder().fit_transform(X['protocol_type'])\n",
    "X['service'] = LabelEncoder().fit_transform(X['service'])\n",
    "X['flag'] = LabelEncoder().fit_transform(X['flag'])\n",
    "attacks = {'satan.':0,'back.':1,'ipsweep.':2,'portsweep.':3,'normal.':4}\n",
    "attacks_assign = {0:'satan.',1:'back.',2:'ipsweep.',3:'portsweep.',4:'normal.'}\n",
    "y = [attacks[item] for item in y]\n",
    "X_train, X_test, y_train, y_test = train_test_split(X,y,train_size=0.8)\n",
    "model = RandomForestClassifier(n_estimators=1000, bootstrap=False)\n",
    "model.fit(X_train, y_train)\n",
    "print(model.score(X_test,y_test)*100)\n",
    "df1 = pd.read_csv('../input/test.csv')\n",
    "X_input = df1.drop(['Id'],axis=1)\n",
    "Ids = df1['Id']\n",
    "X_input['protocol_type'] = LabelEncoder().fit_transform(X_input['protocol_type'])\n",
    "X_input['service'] = LabelEncoder().fit_transform(X_input['service'])\n",
    "X_input['flag']= X_input['flag'].map(str)\n",
    "X_input['flag'] = LabelEncoder().fit_transform(X_input['flag'])\n",
    "y_output = model.predict(X_input)\n",
    "y_output = [attacks_assign[item] for item in y_output]\n",
    "df_output = pd.DataFrame(list(zip(Ids,y_output)),columns=['Id','type_of_attack'])\n",
    "df_output.to_csv('./submission.csv',index=False)"
   ]
  }
 ],
 "metadata": {
  "kernelspec": {
   "display_name": "Python 3",
   "language": "python",
   "name": "python3"
  },
  "language_info": {
   "codemirror_mode": {
    "name": "ipython",
    "version": 3
   },
   "file_extension": ".py",
   "mimetype": "text/x-python",
   "name": "python",
   "nbconvert_exporter": "python",
   "pygments_lexer": "ipython3",
   "version": "3.9.6"
  },
  "papermill": {
   "default_parameters": {},
   "duration": 17.525999,
   "end_time": "2021-10-09T18:02:48.218332",
   "environment_variables": {},
   "exception": null,
   "input_path": "__notebook__.ipynb",
   "output_path": "__notebook__.ipynb",
   "parameters": {},
   "start_time": "2021-10-09T18:02:30.692333",
   "version": "2.3.3"
  }
 },
 "nbformat": 4,
 "nbformat_minor": 5
}
